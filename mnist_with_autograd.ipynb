{
  "nbformat": 4,
  "nbformat_minor": 0,
  "metadata": {
    "colab": {
      "name": "mnist_with_autograd",
      "provenance": [],
      "authorship_tag": "ABX9TyPIadA2CwgzDAXKwjlfyrKS",
      "include_colab_link": true
    },
    "kernelspec": {
      "name": "python3",
      "display_name": "Python 3"
    },
    "language_info": {
      "name": "python"
    }
  },
  "cells": [
    {
      "cell_type": "markdown",
      "metadata": {
        "id": "view-in-github",
        "colab_type": "text"
      },
      "source": [
        "<a href=\"https://colab.research.google.com/github/MubashirUsman/random.randn/blob/main/mnist_with_autograd.ipynb\" target=\"_parent\"><img src=\"https://colab.research.google.com/assets/colab-badge.svg\" alt=\"Open In Colab\"/></a>"
      ]
    },
    {
      "cell_type": "code",
      "execution_count": 38,
      "metadata": {
        "id": "ykG5F6YF1bc_"
      },
      "outputs": [],
      "source": [
        "import numpy as np\n",
        "import matplotlib.pyplot as plt\n",
        "#from PIL import Image\n",
        "import tensorflow as tf\n",
        "from tensorflow import keras\n",
        "from tensorflow.keras import layers\n",
        "from tensorflow.keras.datasets import mnist\n",
        "\n"
      ]
    },
    {
      "cell_type": "code",
      "source": [
        "(x_train, y_train), (x_test, y_test) = mnist.load_data()\n",
        "# lets see images for nothing...\n",
        "i = 40\n",
        "plt.figure()\n",
        "plt.imshow(x_train[i]) \n",
        "plt.show() \n",
        "# No of training examples\n",
        "print(x_train.shape[2])"
      ],
      "metadata": {
        "colab": {
          "base_uri": "https://localhost:8080/",
          "height": 282
        },
        "id": "lAH52la023zv",
        "outputId": "3f047c35-3141-4491-a613-c95eb69b15c3"
      },
      "execution_count": 47,
      "outputs": [
        {
          "output_type": "display_data",
          "data": {
            "image/png": "[encoded data removed]",
            "text/plain": [
              "<Figure size 432x288 with 1 Axes>"
            ]
          },
          "metadata": {
            "needs_background": "light"
          }
        },
        {
          "output_type": "stream",
          "name": "stdout",
          "text": [
            "28\n"
          ]
        }
      ]
    },
    {
      "cell_type": "code",
      "source": [
        "# Normalize data\n",
        "x_train = x_train.astype(\"float32\")/255.0\n",
        "x_test = x_test.astype(\"float32\")/255.0\n",
        "x_train = x_train.reshape(-1, 28*28)\n",
        "x_test = x_test.reshape(-1, 28*28)"
      ],
      "metadata": {
        "id": "GnwydzhX4MUJ"
      },
      "execution_count": 48,
      "outputs": []
    },
    {
      "cell_type": "code",
      "source": [
        "# Model \n",
        "model = keras.Sequential(\n",
        "    [\n",
        "     layers.Dense(1024, activation='relu'),\n",
        "     layers.Dense(512, activation='relu'),\n",
        "     layers.Dense(256, activation='relu'),\n",
        "     layers.Dense(10),\n",
        "     \n",
        "    ]\n",
        ")\n",
        "\n",
        "model.compile(\n",
        "    loss = keras.losses.SparseCategoricalCrossentropy(from_logits=True),\n",
        "    optimizer = keras.optimizers.Adagrad(learning_rate=0.005),\n",
        "    metrics = [\"accuracy\"],\n",
        "\n",
        ")\n",
        "\n",
        "model.fit(x_train, y_train, batch_size = 50, epochs = 5, verbose=2)\n",
        "model.fit(x_test, y_test, batch_size = 50, verbose = 2)\n"
      ],
      "metadata": {
        "colab": {
          "base_uri": "https://localhost:8080/"
        },
        "id": "SoYXciaiCAs_",
        "outputId": "4c02609f-dff7-4210-d849-3e97aeac5df2"
      },
      "execution_count": 49,
      "outputs": [
        {
          "output_type": "stream",
          "name": "stdout",
          "text": [
            "Epoch 1/5\n",
            "1200/1200 - 17s - loss: 0.5238 - accuracy: 0.8664 - 17s/epoch - 14ms/step\n",
            "Epoch 2/5\n",
            "1200/1200 - 17s - loss: 0.2351 - accuracy: 0.9322 - 17s/epoch - 14ms/step\n",
            "Epoch 3/5\n",
            "1200/1200 - 17s - loss: 0.1839 - accuracy: 0.9482 - 17s/epoch - 14ms/step\n",
            "Epoch 4/5\n",
            "1200/1200 - 17s - loss: 0.1514 - accuracy: 0.9570 - 17s/epoch - 14ms/step\n",
            "Epoch 5/5\n",
            "1200/1200 - 17s - loss: 0.1284 - accuracy: 0.9635 - 17s/epoch - 14ms/step\n",
            "200/200 - 3s - loss: 0.1230 - accuracy: 0.9642 - 3s/epoch - 14ms/step\n"
          ]
        },
        {
          "output_type": "execute_result",
          "data": {
            "text/plain": [
              "<keras.callbacks.History at 0x7f1dd026fe50>"
            ]
          },
          "metadata": {},
          "execution_count": 49
        }
      ]
    },
    {
      "cell_type": "code",
      "source": [
        "print(model.summary())"
      ],
      "metadata": {
        "colab": {
          "base_uri": "https://localhost:8080/"
        },
        "id": "w7c3t38EPuGv",
        "outputId": "c769dcd5-42e3-4c1a-dbb5-f9e3055a2de4"
      },
      "execution_count": 50,
      "outputs": [
        {
          "output_type": "stream",
          "name": "stdout",
          "text": [
            "Model: \"sequential_4\"\n",
            "_________________________________________________________________\n",
            " Layer (type)                Output Shape              Param #   \n",
            "=================================================================\n",
            " dense_16 (Dense)            (50, 1024)                803840    \n",
            "                                                                 \n",
            " dense_17 (Dense)            (50, 512)                 524800    \n",
            "                                                                 \n",
            " dense_18 (Dense)            (50, 256)                 131328    \n",
            "                                                                 \n",
            " dense_19 (Dense)            (50, 10)                  2570      \n",
            "                                                                 \n",
            "=================================================================\n",
            "Total params: 1,462,538\n",
            "Trainable params: 1,462,538\n",
            "Non-trainable params: 0\n",
            "_________________________________________________________________\n",
            "None\n"
          ]
        }
      ]
    },
    {
      "cell_type": "code",
      "source": [
        ""
      ],
      "metadata": {
        "id": "ZpYpxxFlbDXQ"
      },
      "execution_count": null,
      "outputs": []
    }
  ]
}